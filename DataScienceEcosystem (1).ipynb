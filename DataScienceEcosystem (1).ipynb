{
 "cells": [
  {
   "cell_type": "markdown",
   "id": "ee346ed4-1d32-4a1e-90a8-893c138e45f8",
   "metadata": {},
   "source": [
    "# Data Science Tools and Ecosystem"
   ]
  },
  {
   "cell_type": "markdown",
   "id": "c38d78bb-1920-41ba-a053-f2cd3c1cee85",
   "metadata": {},
   "source": [
    "### In this notebook, Data Science Tools and Ecosystem are summarized"
   ]
  },
  {
   "cell_type": "markdown",
   "id": "f6fb6380-dde9-493f-97f6-a020b4834886",
   "metadata": {},
   "source": [
    "*Objectives*"
   ]
  },
  {
   "cell_type": "markdown",
   "id": "8f1a6523-6137-4f2f-a65f-4bc65405351f",
   "metadata": {},
   "source": [
    "* Creating Jupyter Notebook\n",
    "* Listing some of the popular languages that Data Scientists use\n",
    "* Listing Open Source Development Environment Tools for Data Science\n",
    "* Practicing Markdowns in Jupyter Notebook\n",
    "* Executing simple arithmetic in Jupyter Notebook Environment\n",
    "\n"
   ]
  },
  {
   "cell_type": "markdown",
   "id": "8de10ad0-5050-4b8e-8cd9-136f7a48a5c3",
   "metadata": {},
   "source": [
    "#### Some of the popular languages that Data Scientists use are:"
   ]
  },
  {
   "cell_type": "code",
   "execution_count": null,
   "id": "6453242a-7cc4-4dc6-adea-01f6b36c65ef",
   "metadata": {},
   "outputs": [],
   "source": [
    "1. R\n",
    "2. Python\n",
    "3. SQL\n"
   ]
  },
  {
   "cell_type": "markdown",
   "id": "3b8800d0-0e53-4597-8da8-413dfa483bce",
   "metadata": {},
   "source": [
    "#### Some of the popular libraries that Data Scientists use are:"
   ]
  },
  {
   "cell_type": "markdown",
   "id": "6fa01bae-534a-4e00-9bf7-29076fb4f9fd",
   "metadata": {},
   "source": [
    "1. Pandas (Scientific Computing Library)\n",
    "2. Matplotlib (Visualization Library)\n",
    "3. Scikit-learn (Machine Learning Library)\n",
    "4. Keras (ML - Deep Learning)\n",
    "5. ggplot2 (R Library for Data Visualization)"
   ]
  },
  {
   "cell_type": "markdown",
   "id": "d52595db-3f87-4afa-b10a-ab279f8be39f",
   "metadata": {},
   "source": [
    "|Data Science Tools|\n",
    "| ---------------- |\n",
    "| Jupyter Notebook |\n",
    "| Jupyter Lab      |\n",
    "| Apache Zeppelin  |"
   ]
  },
  {
   "cell_type": "markdown",
   "id": "2caf8230-c1fc-4442-a216-fa2b085cc70a",
   "metadata": {},
   "source": [
    "### Below are a few examples of evaluating arithmetic expressions in Python"
   ]
  },
  {
   "cell_type": "markdown",
   "id": "9245ff30-8831-4a9d-b9e6-681074a01ded",
   "metadata": {},
   "source": [
    "#### This a simple arithmetic expression to mutiply then add integers"
   ]
  },
  {
   "cell_type": "code",
   "execution_count": 10,
   "id": "a9b8c5cb-ce8c-4549-b6ff-e49da423cd16",
   "metadata": {},
   "outputs": [
    {
     "data": {
      "text/plain": [
       "17"
      ]
     },
     "execution_count": 10,
     "metadata": {},
     "output_type": "execute_result"
    }
   ],
   "source": [
    "(3*4)+5"
   ]
  },
  {
   "cell_type": "markdown",
   "id": "e5702aa1-f319-450e-a9cc-f04aa6c65b08",
   "metadata": {},
   "source": [
    "#### This will convert 200 minutes to hours by diving by 60"
   ]
  },
  {
   "cell_type": "code",
   "execution_count": 11,
   "id": "f7cfc5a5-d083-4728-ab04-dfac95c9c985",
   "metadata": {},
   "outputs": [
    {
     "data": {
      "text/plain": [
       "3.3333333333333335"
      ]
     },
     "execution_count": 11,
     "metadata": {},
     "output_type": "execute_result"
    }
   ],
   "source": [
    "200/60"
   ]
  },
  {
   "cell_type": "markdown",
   "id": "e8736e84-9679-4a87-b48d-0b0e536966b0",
   "metadata": {},
   "source": [
    "## Author\n",
    "Bridget Doran"
   ]
  },
  {
   "cell_type": "code",
   "execution_count": null,
   "id": "7e2f7438-54c2-4c12-ac41-66c74451dd99",
   "metadata": {},
   "outputs": [],
   "source": []
  }
 ],
 "metadata": {
  "kernelspec": {
   "display_name": "Python",
   "language": "python",
   "name": "conda-env-python-py"
  },
  "language_info": {
   "codemirror_mode": {
    "name": "ipython",
    "version": 3
   },
   "file_extension": ".py",
   "mimetype": "text/x-python",
   "name": "python",
   "nbconvert_exporter": "python",
   "pygments_lexer": "ipython3",
   "version": "3.7.12"
  }
 },
 "nbformat": 4,
 "nbformat_minor": 5
}
